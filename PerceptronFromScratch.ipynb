{
  "nbformat": 4,
  "nbformat_minor": 0,
  "metadata": {
    "colab": {
      "provenance": [],
      "authorship_tag": "ABX9TyMgizaqu/dkvkWi/TbKgDSH",
      "include_colab_link": true
    },
    "kernelspec": {
      "name": "python3",
      "display_name": "Python 3"
    },
    "language_info": {
      "name": "python"
    }
  },
  "cells": [
    {
      "cell_type": "markdown",
      "metadata": {
        "id": "view-in-github",
        "colab_type": "text"
      },
      "source": [
        "<a href=\"https://colab.research.google.com/github/ianxdxd/CalculusForML/blob/main/PerceptronFromScratch.ipynb\" target=\"_parent\"><img src=\"https://colab.research.google.com/assets/colab-badge.svg\" alt=\"Open In Colab\"/></a>"
      ]
    },
    {
      "cell_type": "markdown",
      "source": [
        "### Building a Perceptron with only NumPy to apply what I learned in Linear Algebra and Calculus.\n",
        "\n",
        "This is the percepetron that will be built:\n",
        "\n",
        "![percepetron.png](data:image/png;base64,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)\n",
        "\n",
        "I used these sites for research on the implementation of a perceptron:\n",
        "- https://machinelearningmastery.com/implement-perceptron-algorithm-scratch-python/\n",
        "- https://medium.com/@ismailghallou/build-your-perceptron-neural-net-from-scratch-e12b7be9d1ef\n",
        "- https://medium.com/@becaye-balde/perceptron-building-it-from-scratch-in-python-15716806ef64"
      ],
      "metadata": {
        "id": "Y0Cc6cOfDslf"
      }
    },
    {
      "cell_type": "markdown",
      "source": [
        "##### Data"
      ],
      "metadata": {
        "id": "QfijQ3ZnKChw"
      }
    },
    {
      "cell_type": "code",
      "source": [
        "# 0 for Iris-setosa & 1 for Iris-versicolor\n",
        "train_data = [[ 5.1,  3.5,  0 ],\n",
        "       [ 4.9,  3. ,  0 ],\n",
        "       [ 4.7,  3.2,  0 ],\n",
        "       [ 4.6,  3.1,  0 ],\n",
        "       [ 5. ,  3.6,  0 ],\n",
        "       [ 5.4,  3.9,  0 ],\n",
        "       [ 4.6,  3.4,  0 ],\n",
        "       [ 5. ,  3.4,  0 ],\n",
        "       [ 4.4,  2.9,  0 ],\n",
        "       [ 4.9,  3.1,  0 ],\n",
        "       [ 5.4,  3.7,  0 ],\n",
        "       [ 4.8,  3.4,  0 ],\n",
        "       [ 4.8,  3. ,  0 ],\n",
        "       [ 4.3,  3. ,  0 ],\n",
        "       [ 5.8,  4. ,  0 ],\n",
        "       [ 5.7,  4.4,  0 ],\n",
        "       [ 5.4,  3.9,  0 ],\n",
        "       [ 5.1,  3.5,  0 ],\n",
        "       [ 5.7,  3.8,  0 ],\n",
        "       [ 5.1,  3.8,  0 ],\n",
        "       [ 7. ,  3.2,  1 ],\n",
        "       [ 6.4,  3.2,  1 ],\n",
        "       [ 6.9,  3.1,  1 ],\n",
        "       [ 5.5,  2.3,  1 ],\n",
        "       [ 6.5,  2.8,  1 ],\n",
        "       [ 5.7,  2.8,  1 ],\n",
        "       [ 6.3,  3.3,  1 ],\n",
        "       [ 4.9,  2.4,  1 ],\n",
        "       [ 6.6,  2.9,  1 ],\n",
        "       [ 5.2,  2.7,  1 ],\n",
        "       [ 5. ,  2. ,  1 ],\n",
        "       [ 5.9,  3. ,  1 ],\n",
        "       [ 6. ,  2.2,  1 ],\n",
        "       [ 6.1,  2.9,  1 ],\n",
        "       [ 5.6,  2.9,  1 ],\n",
        "       [ 6.7,  3.1,  1 ],\n",
        "       [ 5.6,  3. ,  1 ],\n",
        "       [ 5.8,  2.7,  1 ],\n",
        "       [ 6.2,  2.2,  1 ],\n",
        "       [ 5.6,  2.5,  1 ],\n",
        "       [ 5.9,  3.2,  1 ],\n",
        "       [ 6.1,  2.8,  1 ],\n",
        "       [ 6.3,  2.5,  1 ],\n",
        "       [ 6.1,  2.8,  1 ],\n",
        "       [ 6.4,  2.9,  1 ]]\n",
        "\n",
        "test_data = [[ 5.4,  3.4,  0. ],\n",
        "           [ 4.6,  3.6,  0. ],\n",
        "           [ 5.1,  3.3,  0. ],\n",
        "           [ 4.8,  3.4,  0. ],\n",
        "           [ 5. ,  3. ,  0. ],\n",
        "           [ 5. ,  3.4,  0. ],\n",
        "           [ 5.2,  3.5,  0. ],\n",
        "           [ 5.2,  3.4,  0. ],\n",
        "           [ 4.7,  3.2,  0. ],\n",
        "           [ 4.8,  3.1,  0. ],\n",
        "           [ 5.4,  3.4,  0. ],\n",
        "           [ 5.2,  4.1,  0. ],\n",
        "           [ 5.5,  4.2,  0. ],\n",
        "           [ 4.9,  3.1,  0. ],\n",
        "           [ 5. ,  3.2,  0. ],\n",
        "           [ 5.5,  3.5,  0. ],\n",
        "           [ 4.9,  3.1,  0. ],\n",
        "           [ 4.4,  3. ,  0. ],\n",
        "           [ 5.1,  3.4,  0. ],\n",
        "           [ 5. ,  3.5,  0. ],\n",
        "           [ 4.5,  2.3,  0. ],\n",
        "           [ 4.4,  3.2,  0. ],\n",
        "           [ 5. ,  3.5,  0. ],\n",
        "           [ 5.1,  3.8,  0. ],\n",
        "           [ 4.8,  3. ,  0. ],\n",
        "           [ 5.1,  3.8,  0. ],\n",
        "           [ 4.6,  3.2,  0. ],\n",
        "           [ 5.3,  3.7,  0. ],\n",
        "           [ 5. ,  3.3,  0. ],\n",
        "           [ 6.8,  2.8,  1. ],\n",
        "           [ 6.7,  3. ,  1. ],\n",
        "           [ 6. ,  2.9,  1. ],\n",
        "           [ 5.7,  2.6,  1. ],\n",
        "           [ 5.5,  2.4,  1. ],\n",
        "           [ 5.5,  2.4,  1. ],\n",
        "           [ 5.8,  2.7,  1. ],\n",
        "           [ 6. ,  2.7,  1. ],\n",
        "           [ 5.4,  3. ,  1. ],\n",
        "           [ 6. ,  3.4,  1. ],\n",
        "           [ 6.7,  3.1,  1. ],\n",
        "           [ 6.3,  2.3,  1. ],\n",
        "           [ 5.6,  3. ,  1. ],\n",
        "           [ 5.5,  2.5,  1. ],\n",
        "           [ 5.5,  2.6,  1. ],\n",
        "           [ 6.1,  3. ,  1. ],\n",
        "           [ 5.8,  2.6,  1. ],\n",
        "           [ 5. ,  2.3,  1. ],\n",
        "           [ 5.6,  2.7,  1. ],\n",
        "           [ 5.7,  3. ,  1. ],\n",
        "           [ 5.7,  2.9,  1. ],\n",
        "           [ 6.2,  2.9,  1. ],\n",
        "           [ 5.1,  2.5,  1. ],\n",
        "           [ 5.7,  2.8,  1. ]]"
      ],
      "metadata": {
        "id": "e5gBfOOyJbH9"
      },
      "execution_count": 56,
      "outputs": []
    },
    {
      "cell_type": "markdown",
      "source": [
        "##### Implementation:"
      ],
      "metadata": {
        "id": "RI3dM8epKI-x"
      }
    },
    {
      "cell_type": "code",
      "source": [
        "import numpy as np"
      ],
      "metadata": {
        "id": "i21H6fyZJYL4"
      },
      "execution_count": 3,
      "outputs": []
    },
    {
      "cell_type": "code",
      "source": [
        "def sigmoid(x) :\n",
        "    return 1/(1 + np.exp(-x))\n",
        "\n",
        "def sigmoid_prime(x) :\n",
        "    return sigmoid(x) * (1-sigmoid(x))"
      ],
      "metadata": {
        "id": "B_VPNyL2Gc2C"
      },
      "execution_count": 58,
      "outputs": []
    },
    {
      "cell_type": "code",
      "source": [
        "def perceptron(data, w, b, learning_rate=0.1, epochs=1000):\n",
        "\n",
        "    data = np.array(data)  # Ensure data is a NumPy array\n",
        "    predictions=[]\n",
        "\n",
        "    for epoch in range(epochs):\n",
        "\n",
        "        np.random.shuffle(data)\n",
        "\n",
        "        for i in range(len(data)):\n",
        "            X = data[i, :-1] # [i,:-1] create a tuple without the last element of the features\n",
        "            y = data[i, -1] # target (either 0 or 1)\n",
        "\n",
        "        Z = np.dot(X, w) + b\n",
        "        prediction = sigmoid(Z)\n",
        "\n",
        "        '''\n",
        "        The square of the difference between the prediction and the actual value\n",
        "        is a valid approach, but there are other ones like the binary cross-entr\n",
        "        opy loss.\n",
        "        '''\n",
        "\n",
        "        # cost_prime = 2 * (prediction - y) # derivative of the cost function\n",
        "        cost_prime = -(y - prediction) # binary cross-entropy loss\n",
        "        dz_prediction = sigmoid_prime(Z) # prime prediction using the derivative of the sigmoid\n",
        "        grad_cost = cost_prime * dz_prediction # gradient calculation\n",
        "\n",
        "        # updating weights and bias\n",
        "        w -= learning_rate * grad_cost * X\n",
        "        b -= learning_rate * grad_cost\n",
        "\n",
        "    return w, b"
      ],
      "metadata": {
        "id": "R5v5KBrCE0Ku"
      },
      "execution_count": 57,
      "outputs": []
    },
    {
      "cell_type": "code",
      "source": [
        "w = [np.random.randn(),np.random.randn()]\n",
        "b = np.random.randn()\n",
        "w_res, b_res = perceptron(train_data, w, b)\n",
        "scores = []\n",
        "\n",
        "for row in range(len(test_data)):\n",
        "    data = np.array(test_data)\n",
        "    np.random.shuffle(data)\n",
        "    X = data[row, :-1]\n",
        "    z = np.dot(X,w_res) + b_res\n",
        "    prediction = sigmoid(z)\n",
        "    target = (data[row][2])\n",
        "    # print(target, round(prediction))\n",
        "    if target == round(float(prediction)):\n",
        "        scores.append(1)\n",
        "    else:\n",
        "        scores.append(0)\n",
        "\n",
        "print(f\"Accuracy: {sum(scores)/len(scores)}\")\n",
        "# Accuracy: 0.9433962264150944 square of the diff\n",
        "# Accuracy: 0.9622641509433962 binary cross-entropy loss"
      ],
      "metadata": {
        "colab": {
          "base_uri": "https://localhost:8080/"
        },
        "id": "Ktr_idO_KNdn",
        "outputId": "bffc6a57-5152-480f-bdde-bf7c70e5e2e9"
      },
      "execution_count": 59,
      "outputs": [
        {
          "output_type": "stream",
          "name": "stdout",
          "text": [
            "Accuracy: 0.9433962264150944\n",
            "[4.4 3.2]\n"
          ]
        }
      ]
    }
  ]
}